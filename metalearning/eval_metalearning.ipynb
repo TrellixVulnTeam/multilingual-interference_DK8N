{
 "metadata": {
  "language_info": {
   "codemirror_mode": {
    "name": "ipython",
    "version": 3
   },
   "file_extension": ".py",
   "mimetype": "text/x-python",
   "name": "python",
   "nbconvert_exporter": "python",
   "pygments_lexer": "ipython3",
   "version": "3.6.1"
  },
  "orig_nbformat": 2,
  "kernelspec": {
   "name": "python361jvsc74a57bd0aee8b7b246df8f9039afb4144a1f6fd8d2ca17a180786b69acc140d282b71a49",
   "display_name": "Python 3.6.1 64-bit"
  },
  "metadata": {
   "interpreter": {
    "hash": "aee8b7b246df8f9039afb4144a1f6fd8d2ca17a180786b69acc140d282b71a49"
   }
  }
 },
 "nbformat": 4,
 "nbformat_minor": 2,
 "cells": [
  {
   "cell_type": "code",
   "execution_count": 2,
   "metadata": {},
   "outputs": [],
   "source": [
    "import json\n",
    "import os\n",
    "# path ='metavalidation_0.001_0.0001_20_20_sgd_logs-bert_finetune_en-2021.05.18_15.18.52_None' #val\n",
    "# path ='metatesting_0.001_0.0001_20_20_sgd_logs-bert_finetune_en-2021.05.18_15.18.52_None' #test\n",
    "# path = 'metavalidation_pairwise_0.001_0.0001_20_20_sgd_saved_models-Korean_Hindi_XMAML_0.001_0.0001_0.0005_1e-05_20_bert_finetune_en_9999_0_sum_None' #validation_korean-hind\n",
    "\n",
    "path = 'metavalidation_pairwise_0.001_0.0001_20_20_sgd_saved_models-XMAML_0.001_0.0001_0.0005_1e-05_20_bert_finetune_en_9999_0_sumKorean_Arabic_None' #validation_korean arabic\n",
    "\n",
    "files = [f  for f in os.listdir(path) if '.json' in f] #only get json\n",
    "#example: 'UD_Bulgarian-BTB_performance8.json',\n",
    "languages = set(f.split('_')[1] for f in files) #get language\n",
    "lang_files_dict = {l:[] for l in languages} #create dicts\n",
    "for f in files:#split json filenames per language\n",
    "    lang_files_dict[f.split('_')[1]].append(f) \n"
   ]
  },
  {
   "cell_type": "code",
   "execution_count": 3,
   "metadata": {},
   "outputs": [
    {
     "output_type": "execute_result",
     "data": {
      "text/plain": [
       "{'Tokens': {'correct': 28366,\n",
       "  'gold_total': 28366,\n",
       "  'system_total': 28366,\n",
       "  'aligned_total': None,\n",
       "  'precision': 1.0,\n",
       "  'recall': 1.0,\n",
       "  'f1': 1.0,\n",
       "  'aligned_accuracy': None},\n",
       " 'Sentences': {'correct': 2287,\n",
       "  'gold_total': 2287,\n",
       "  'system_total': 2287,\n",
       "  'aligned_total': None,\n",
       "  'precision': 1.0,\n",
       "  'recall': 1.0,\n",
       "  'f1': 1.0,\n",
       "  'aligned_accuracy': None},\n",
       " 'Words': {'correct': 28366,\n",
       "  'gold_total': 28366,\n",
       "  'system_total': 28366,\n",
       "  'aligned_total': None,\n",
       "  'precision': 1.0,\n",
       "  'recall': 1.0,\n",
       "  'f1': 1.0,\n",
       "  'aligned_accuracy': None},\n",
       " 'UPOS': {'correct': 0,\n",
       "  'gold_total': 28366,\n",
       "  'system_total': 28366,\n",
       "  'aligned_total': 28366,\n",
       "  'precision': 0.0,\n",
       "  'recall': 0.0,\n",
       "  'f1': 0.0,\n",
       "  'aligned_accuracy': 0.0},\n",
       " 'XPOS': {'correct': 0,\n",
       "  'gold_total': 28366,\n",
       "  'system_total': 28366,\n",
       "  'aligned_total': 28366,\n",
       "  'precision': 0.0,\n",
       "  'recall': 0.0,\n",
       "  'f1': 0.0,\n",
       "  'aligned_accuracy': 0.0},\n",
       " 'UFeats': {'correct': 28366,\n",
       "  'gold_total': 28366,\n",
       "  'system_total': 28366,\n",
       "  'aligned_total': 28366,\n",
       "  'precision': 1.0,\n",
       "  'recall': 1.0,\n",
       "  'f1': 1.0,\n",
       "  'aligned_accuracy': 1.0},\n",
       " 'AllTags': {'correct': 0,\n",
       "  'gold_total': 28366,\n",
       "  'system_total': 28366,\n",
       "  'aligned_total': 28366,\n",
       "  'precision': 0.0,\n",
       "  'recall': 0.0,\n",
       "  'f1': 0.0,\n",
       "  'aligned_accuracy': 0.0},\n",
       " 'Lemmas': {'correct': 0,\n",
       "  'gold_total': 28366,\n",
       "  'system_total': 28366,\n",
       "  'aligned_total': 28366,\n",
       "  'precision': 0.0,\n",
       "  'recall': 0.0,\n",
       "  'f1': 0.0,\n",
       "  'aligned_accuracy': 0.0},\n",
       " 'UAS': {'correct': 10289,\n",
       "  'gold_total': 28366,\n",
       "  'system_total': 28366,\n",
       "  'aligned_total': 28366,\n",
       "  'precision': 0.36272297821335403,\n",
       "  'recall': 0.36272297821335403,\n",
       "  'f1': 0.36272297821335403,\n",
       "  'aligned_accuracy': 0.36272297821335403},\n",
       " 'LAS': {'correct': 5844,\n",
       "  'gold_total': 28366,\n",
       "  'system_total': 28366,\n",
       "  'aligned_total': 28366,\n",
       "  'precision': 0.20602129309737008,\n",
       "  'recall': 0.20602129309737008,\n",
       "  'f1': 0.20602129309737008,\n",
       "  'aligned_accuracy': 0.20602129309737008},\n",
       " 'CLAS': {'correct': 2030,\n",
       "  'gold_total': 22701,\n",
       "  'system_total': 20189,\n",
       "  'aligned_total': 22701,\n",
       "  'precision': 0.10054980434890287,\n",
       "  'recall': 0.08942337341967314,\n",
       "  'f1': 0.09466076008393565,\n",
       "  'aligned_accuracy': 0.08942337341967314},\n",
       " 'MLAS': {'correct': 0,\n",
       "  'gold_total': 22701,\n",
       "  'system_total': 20189,\n",
       "  'aligned_total': 22701,\n",
       "  'precision': 0.0,\n",
       "  'recall': 0.0,\n",
       "  'f1': 0.0,\n",
       "  'aligned_accuracy': 0.0},\n",
       " 'BLEX': {'correct': 0,\n",
       "  'gold_total': 22701,\n",
       "  'system_total': 20189,\n",
       "  'aligned_total': 22701,\n",
       "  'precision': 0.0,\n",
       "  'recall': 0.0,\n",
       "  'f1': 0.0,\n",
       "  'aligned_accuracy': 0.0}}"
      ]
     },
     "metadata": {},
     "execution_count": 3
    }
   ],
   "source": [
    "#example of scores in file\n",
    "with open(path+'/'+files[19]) as file:\n",
    "    f = json.load(file)\n",
    "f"
   ]
  },
  {
   "cell_type": "code",
   "execution_count": 5,
   "metadata": {},
   "outputs": [
    {
     "output_type": "stream",
     "name": "stdout",
     "text": [
      "Korean-Kaist Total LAS: 0.20915708947331316\nKorean-Kaist Total UAS: 0.37023725586970313\n"
     ]
    }
   ],
   "source": [
    "for language in lang_files_dict.keys(): #Get language keys\n",
    "    las_total, uas_total = 0,0 #start score\n",
    "    for subset in lang_files_dict[language]: #loop through all score files of that lang\n",
    "        with open(path+'/'+subset) as file: #open file\n",
    "            results_dict = json.load(file)\n",
    "        las_total += results_dict['LAS']['f1'] #save score\n",
    "        uas_total += results_dict['UAS']['f1'] #save score\n",
    "    las_total /= len(lang_files_dict[language]) #average score\n",
    "    uas_total /= len(lang_files_dict[language]) #average score\n",
    "    print(language,'Total LAS:',las_total)\n",
    "    print(language,'Total UAS:',uas_total)"
   ]
  },
  {
   "cell_type": "code",
   "execution_count": null,
   "metadata": {},
   "outputs": [],
   "source": []
  }
 ]
}