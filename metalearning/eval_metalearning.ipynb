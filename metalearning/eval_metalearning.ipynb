{
 "metadata": {
  "language_info": {
   "codemirror_mode": {
    "name": "ipython",
    "version": 3
   },
   "file_extension": ".py",
   "mimetype": "text/x-python",
   "name": "python",
   "nbconvert_exporter": "python",
   "pygments_lexer": "ipython3",
   "version": "3.8.8"
  },
  "orig_nbformat": 2,
  "kernelspec": {
   "name": "python3",
   "display_name": "Python 3.8.8 64-bit ('atcs-project': conda)",
   "metadata": {
    "interpreter": {
     "hash": "0b457a1f801b64fcf9e0dbbd615c805a0f637facaea2f5258614b2d24a4d5d47"
    }
   }
  }
 },
 "nbformat": 4,
 "nbformat_minor": 2,
 "cells": [
  {
   "cell_type": "code",
   "execution_count": 47,
   "metadata": {},
   "outputs": [],
   "source": [
    "import json\n",
    "import os\n",
    "# path ='metavalidation_0.001_0.0001_20_20_sgd_logs-bert_finetune_en-2021.05.18_15.18.52_None' #val\n",
    "path ='metatesting_0.001_0.0001_20_20_sgd_logs-bert_finetune_en-2021.05.18_15.18.52_None' #test\n",
    "files = [f  for f in os.listdir(path) if '.json' in f] #only get json\n",
    "#example: 'UD_Bulgarian-BTB_performance8.json',\n",
    "languages = set(f.split('_')[1] for f in files) #get language\n",
    "lang_files_dict = {l:[] for l in languages} #create dicts\n",
    "for f in files:#split json filenames per language\n",
    "    lang_files_dict[f.split('_')[1]].append(f) \n"
   ]
  },
  {
   "cell_type": "code",
   "execution_count": 48,
   "metadata": {},
   "outputs": [
    {
     "output_type": "execute_result",
     "data": {
      "text/plain": [
       "{'correct': 674,\n",
       " 'gold_total': 15724,\n",
       " 'system_total': 15724,\n",
       " 'aligned_total': 15724,\n",
       " 'precision': 0.04286441109132536,\n",
       " 'recall': 0.04286441109132536,\n",
       " 'f1': 0.04286441109132536,\n",
       " 'aligned_accuracy': 0.04286441109132536}"
      ]
     },
     "metadata": {},
     "execution_count": 48
    }
   ],
   "source": [
    "#example of scores in file\n",
    "with open(path+'/'+arr[0]) as file:\n",
    "    f = json.load(file)\n",
    "f['LAS']"
   ]
  },
  {
   "cell_type": "code",
   "execution_count": 49,
   "metadata": {},
   "outputs": [
    {
     "output_type": "stream",
     "name": "stdout",
     "text": [
      "Italian-ISDT Total LAS: 0.7908082941345879\n",
      "Tamil-TTB Total LAS: 0.05625942684766215\n",
      "Korean-Kaist Total LAS: 0.0747250229147571\n",
      "Buryat-BDT Total LAS: 0.0896757950013033\n",
      "Telugu-MTG Total LAS: 0.46504854368932047\n",
      "Swedish-PUD Total LAS: 0.6000108097044203\n",
      "Arabic-PADT Total LAS: 0.02356885083498443\n",
      "German-GSD Total LAS: 0.6300581888713784\n",
      "Persian-Seraji Total LAS: 0.01631615077383924\n",
      "Bulgarian-BTB Total LAS: 0.051647163571610276\n",
      "Upper Total LAS: 0.2677406146885096\n",
      "Norwegian-Nynorsk Total LAS: 0.6108848342954022\n",
      "Finnish-TDT Total LAS: 0.36320041823107263\n",
      "Vietnamese-VTB Total LAS: 0.05693433709744877\n",
      "English-EWT Total LAS: 0.8866193815747527\n",
      "Japanese-GSD Total LAS: 0.027484322238301977\n",
      "Hungarian-Szeged Total LAS: 0.32964203675344567\n",
      "Russian-SynTagRus Total LAS: 0.06758047882450205\n",
      "French-Spoken Total LAS: 0.5783716283716285\n",
      "Kazakh-KTB Total LAS: 0.16643806321653426\n",
      "Urdu-UDTB Total LAS: 0.02885654464406322\n",
      "Breton-KEB Total LAS: 0.5138743641940045\n",
      "Armenian-ArmTDP Total LAS: 0.02482951564958909\n",
      "Hindi-HDTB Total LAS: 0.03190093141405589\n",
      "Czech-PDT Total LAS: 0.23121844777423836\n",
      "Faroese-OFT Total LAS: 0.358348515404494\n"
     ]
    }
   ],
   "source": [
    "for language in lang_files_dict.keys(): #Get language keys\n",
    "    las_total = 0 #start score\n",
    "    for subset in lang_files_dict[language]: #loop through all score files of that lang\n",
    "        with open(path+'/'+subset) as file: #open file\n",
    "            results_dict = json.load(file)\n",
    "        las_total += results_dict['LAS']['f1'] #save score\n",
    "    las_total /= len(lang_files_dict[language]) #average score\n",
    "    print(language,'Total LAS:',las_total)"
   ]
  }
 ]
}